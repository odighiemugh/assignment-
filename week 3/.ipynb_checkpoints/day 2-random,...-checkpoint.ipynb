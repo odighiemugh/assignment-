{
 "cells": [
  {
   "cell_type": "markdown",
   "metadata": {},
   "source": [
    "## The random Module"
   ]
  },
  {
   "cell_type": "code",
   "execution_count": 1,
   "metadata": {},
   "outputs": [],
   "source": [
    "import random"
   ]
  },
  {
   "cell_type": "code",
   "execution_count": 5,
   "metadata": {},
   "outputs": [],
   "source": [
    "from math import pi,sqrt"
   ]
  },
  {
   "cell_type": "code",
   "execution_count": 3,
   "metadata": {},
   "outputs": [
    {
     "data": {
      "text/plain": [
       "3.141592653589793"
      ]
     },
     "execution_count": 3,
     "metadata": {},
     "output_type": "execute_result"
    }
   ],
   "source": [
    "pi"
   ]
  },
  {
   "cell_type": "code",
   "execution_count": 6,
   "metadata": {},
   "outputs": [
    {
     "data": {
      "text/plain": [
       "2.0"
      ]
     },
     "execution_count": 6,
     "metadata": {},
     "output_type": "execute_result"
    }
   ],
   "source": [
    "sqrt(4)"
   ]
  },
  {
   "cell_type": "code",
   "execution_count": 30,
   "metadata": {},
   "outputs": [
    {
     "name": "stdout",
     "output_type": "stream",
     "text": [
      "6\n"
     ]
    }
   ],
   "source": [
    "g=(random.randint(3,9)) ## random integer within a specified range\n",
    "print(g)"
   ]
  },
  {
   "cell_type": "code",
   "execution_count": 63,
   "metadata": {},
   "outputs": [
    {
     "name": "stdout",
     "output_type": "stream",
     "text": [
      "0\n"
     ]
    }
   ],
   "source": [
    "x=(random.randrange(3,6))\n",
    "print(x)"
   ]
  },
  {
   "cell_type": "code",
   "execution_count": 51,
   "metadata": {},
   "outputs": [
    {
     "name": "stdout",
     "output_type": "stream",
     "text": [
      "2\n"
     ]
    }
   ],
   "source": [
    "x=(random.randrange(3))\n",
    "print(x)"
   ]
  },
  {
   "cell_type": "code",
   "execution_count": 68,
   "metadata": {},
   "outputs": [
    {
     "name": "stdout",
     "output_type": "stream",
     "text": [
      "2\n"
     ]
    }
   ],
   "source": [
    "x=(random.randrange(-3,3))\n",
    "print(x)"
   ]
  },
  {
   "cell_type": "code",
   "execution_count": 69,
   "metadata": {},
   "outputs": [],
   "source": [
    "cars=list((\"volvo\",\"benz\",\"Lexus\",\"Honda\"))"
   ]
  },
  {
   "cell_type": "code",
   "execution_count": 94,
   "metadata": {},
   "outputs": [
    {
     "name": "stdout",
     "output_type": "stream",
     "text": [
      "['benz', 'Honda']\n"
     ]
    }
   ],
   "source": [
    "car=random.sample([\"volvo\",\"benz\",\"Lexus\",\"Honda\"], k=2)\n",
    "print(car)"
   ]
  },
  {
   "cell_type": "code",
   "execution_count": 104,
   "metadata": {},
   "outputs": [
    {
     "name": "stdout",
     "output_type": "stream",
     "text": [
      "0.43715783750379567\n"
     ]
    }
   ],
   "source": [
    "print(random.random()) ## randomly selects a number within 0 and 1"
   ]
  },
  {
   "cell_type": "code",
   "execution_count": 108,
   "metadata": {},
   "outputs": [
    {
     "name": "stdout",
     "output_type": "stream",
     "text": [
      "-36.16929429073737\n"
     ]
    }
   ],
   "source": [
    "print(random.uniform(-100,20)) ## randomly selects a number within your range"
   ]
  },
  {
   "cell_type": "code",
   "execution_count": 115,
   "metadata": {},
   "outputs": [],
   "source": [
    "random.shuffle(cars) ## randomly shuffles your list and changes the order"
   ]
  },
  {
   "cell_type": "code",
   "execution_count": 116,
   "metadata": {},
   "outputs": [
    {
     "data": {
      "text/plain": [
       "['Honda', 'volvo', 'Lexus', 'benz']"
      ]
     },
     "execution_count": 116,
     "metadata": {},
     "output_type": "execute_result"
    }
   ],
   "source": [
    "cars"
   ]
  },
  {
   "cell_type": "code",
   "execution_count": 120,
   "metadata": {},
   "outputs": [],
   "source": [
    "fruits=[\"banana\",\"mango\",\"apple\",\"orange\",[\"pineapple\",\"kiwi\",\"Avocado\"],\"Guava\"]"
   ]
  },
  {
   "cell_type": "code",
   "execution_count": 135,
   "metadata": {},
   "outputs": [
    {
     "name": "stdout",
     "output_type": "stream",
     "text": [
      "['pineapple', 'kiwi', 'Avocado']\n"
     ]
    }
   ],
   "source": [
    "fruit=random.choice(fruits)\n",
    "print(fruit)"
   ]
  },
  {
   "cell_type": "code",
   "execution_count": 165,
   "metadata": {},
   "outputs": [
    {
     "name": "stdout",
     "output_type": "stream",
     "text": [
      "['banana', ['pineapple', 'kiwi', 'Avocado'], ['pineapple', 'kiwi', 'Avocado'], ['pineapple', 'kiwi', 'Avocado'], ['pineapple', 'kiwi', 'Avocado']]\n"
     ]
    }
   ],
   "source": [
    "print(random.choices(fruits,weights=[50,0,0,0,100,50],k=5))"
   ]
  },
  {
   "cell_type": "markdown",
   "metadata": {},
   "source": [
    "## the seed method in random module"
   ]
  },
  {
   "cell_type": "code",
   "execution_count": 175,
   "metadata": {},
   "outputs": [
    {
     "name": "stdout",
     "output_type": "stream",
     "text": [
      "['Honda', 'volvo', 'Lexus', 'benz', 'Audi', 'BMW', 'Nissan']\n"
     ]
    }
   ],
   "source": [
    "cars=['Honda', 'volvo', 'Lexus', 'benz','Audi','BMW','Nissan']\n",
    "print(cars)"
   ]
  },
  {
   "cell_type": "code",
   "execution_count": 195,
   "metadata": {},
   "outputs": [
    {
     "name": "stdout",
     "output_type": "stream",
     "text": [
      "benz\n"
     ]
    }
   ],
   "source": [
    "print(random.choice(cars))"
   ]
  },
  {
   "cell_type": "markdown",
   "metadata": {},
   "source": [
    "## Exercise 36:Vowel or Consonant\n",
    "#### In this exercise you will create a program that reads a letter of the alphabet from the user. If the user enters a, e, i, o or u then your program should display a message indicating that the entered letter is a vowel. If the user enters y then your program should display a message indicating that sometimes y is a vowel, and sometimes y is a consonant. Otherwise your program should display a message indicating that the letter is a consonant."
   ]
  },
  {
   "cell_type": "code",
   "execution_count": 212,
   "metadata": {},
   "outputs": [
    {
     "name": "stdout",
     "output_type": "stream",
     "text": [
      "Please put in your letter: 1\n",
      "1 is a consonant\n"
     ]
    }
   ],
   "source": [
    "alphabet=input(\"Please put in your letter: \")\n",
    "if alphabet== \"a\" or alphabet==\"e\" or alphabet==\"i\" or alphabet==\"u\" or alphabet==\"o\":\n",
    "    print(alphabet,\"is a vowel letter\")\n",
    "elif alphabet==\"y\":\n",
    "    print(\"sometimes y is a vowel, and sometimes y is a consonant.\")\n",
    "else:\n",
    "    print(alphabet,\"is a consonant\")"
   ]
  },
  {
   "cell_type": "code",
   "execution_count": 231,
   "metadata": {},
   "outputs": [
    {
     "name": "stdout",
     "output_type": "stream",
     "text": [
      "Please input a word: Jessica\n",
      "Jessica has a consonant letter J\n",
      "Jessica has a vowel letter e\n",
      "Jessica has a consonant letter s\n",
      "Jessica has a consonant letter s\n",
      "Jessica has a vowel letter i\n",
      "Jessica has a consonant letter c\n",
      "Jessica has a vowel letter a\n"
     ]
    }
   ],
   "source": [
    "word=input(\"Please input a word: \")\n",
    "for i in word:\n",
    "    if i== \"a\" or i==\"e\" or i==\"i\" or i==\"u\" or i==\"o\":\n",
    "        print(word,\"has a vowel letter\", i)\n",
    "    else:\n",
    "        print(word,\"has a consonant letter\", i)"
   ]
  },
  {
   "cell_type": "code",
   "execution_count": 223,
   "metadata": {},
   "outputs": [
    {
     "name": "stdout",
     "output_type": "stream",
     "text": [
      "yes\n"
     ]
    }
   ],
   "source": [
    "vowel=[\"a\",\"e\",\"i\",\"o\",\"u\"]\n",
    "for x in vowel:\n",
    "    if x==\"a\":\n",
    "        print(\"yes\")"
   ]
  },
  {
   "cell_type": "code",
   "execution_count": null,
   "metadata": {},
   "outputs": [],
   "source": []
  }
 ],
 "metadata": {
  "kernelspec": {
   "display_name": "Python 3",
   "language": "python",
   "name": "python3"
  },
  "language_info": {
   "codemirror_mode": {
    "name": "ipython",
    "version": 3
   },
   "file_extension": ".py",
   "mimetype": "text/x-python",
   "name": "python",
   "nbconvert_exporter": "python",
   "pygments_lexer": "ipython3",
   "version": "3.7.3"
  }
 },
 "nbformat": 4,
 "nbformat_minor": 2
}
